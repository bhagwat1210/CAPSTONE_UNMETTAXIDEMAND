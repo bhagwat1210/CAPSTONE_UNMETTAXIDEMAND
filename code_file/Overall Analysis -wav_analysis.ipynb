{
 "cells": [
  {
   "cell_type": "code",
   "execution_count": 53,
   "metadata": {
    "collapsed": false
   },
   "outputs": [
    {
     "name": "stdout",
     "output_type": "stream",
     "text": [
      "Populating the interactive namespace from numpy and matplotlib\n"
     ]
    }
   ],
   "source": [
    "# Loading required libraries\n",
    "import pandas as pd\n",
    "import datetime\n",
    "import numpy as np\n",
    "import matplotlib.pyplot as plt\n",
    "import matplotlib\n",
    "import glob\n",
    "import os\n",
    "%pylab inline\n",
    "matplotlib.rcParams.update({'font.size': 16})"
   ]
  },
  {
   "cell_type": "code",
   "execution_count": 54,
   "metadata": {
    "collapsed": false
   },
   "outputs": [],
   "source": [
    "#input_file_path = '/home/cusp/kvp246/capstone/spatial/tlc/unmetdemand/'\n",
    "#files = glob.glob(os.path.join(input_file_path, \"*.csv\"))\n",
    "#files"
   ]
  },
  {
   "cell_type": "code",
   "execution_count": 55,
   "metadata": {
    "collapsed": false
   },
   "outputs": [
    {
     "name": "stdout",
     "output_type": "stream",
     "text": [
      "(166850, 4)\n",
      "<class 'pandas.core.frame.DataFrame'>\n",
      "Int64Index: 166850 entries, 0 to 166849\n",
      "Data columns (total 4 columns):\n",
      "bbl_number           166850 non-null int64\n",
      "total_demand         166850 non-null int64\n",
      "total_freemins       166850 non-null int64\n",
      "total_unmet_ratio    166850 non-null float64\n",
      "dtypes: float64(1), int64(3)\n",
      "memory usage: 6.4 MB\n",
      "None\n"
     ]
    },
    {
     "data": {
      "text/html": [
       "<div style=\"max-height:1000px;max-width:1500px;overflow:auto;\">\n",
       "<table border=\"1\" class=\"dataframe\">\n",
       "  <thead>\n",
       "    <tr style=\"text-align: right;\">\n",
       "      <th></th>\n",
       "      <th>bbl_number</th>\n",
       "      <th>total_demand</th>\n",
       "      <th>total_freemins</th>\n",
       "      <th>total_unmet_ratio</th>\n",
       "    </tr>\n",
       "  </thead>\n",
       "  <tbody>\n",
       "    <tr>\n",
       "      <th>0</th>\n",
       "      <td>1015450052</td>\n",
       "      <td>93</td>\n",
       "      <td>523</td>\n",
       "      <td>0.177820</td>\n",
       "    </tr>\n",
       "    <tr>\n",
       "      <th>1</th>\n",
       "      <td>1007237501</td>\n",
       "      <td>640</td>\n",
       "      <td>5448</td>\n",
       "      <td>0.117474</td>\n",
       "    </tr>\n",
       "    <tr>\n",
       "      <th>2</th>\n",
       "      <td>1016800048</td>\n",
       "      <td>1</td>\n",
       "      <td>28</td>\n",
       "      <td>0.035714</td>\n",
       "    </tr>\n",
       "    <tr>\n",
       "      <th>3</th>\n",
       "      <td>1013850032</td>\n",
       "      <td>658</td>\n",
       "      <td>6825</td>\n",
       "      <td>0.096410</td>\n",
       "    </tr>\n",
       "    <tr>\n",
       "      <th>4</th>\n",
       "      <td>1011970027</td>\n",
       "      <td>9</td>\n",
       "      <td>157</td>\n",
       "      <td>0.057325</td>\n",
       "    </tr>\n",
       "  </tbody>\n",
       "</table>\n",
       "</div>"
      ],
      "text/plain": [
       "   bbl_number  total_demand  total_freemins  total_unmet_ratio\n",
       "0  1015450052            93             523           0.177820\n",
       "1  1007237501           640            5448           0.117474\n",
       "2  1016800048             1              28           0.035714\n",
       "3  1013850032           658            6825           0.096410\n",
       "4  1011970027             9             157           0.057325"
      ]
     },
     "execution_count": 55,
     "metadata": {},
     "output_type": "execute_result"
    }
   ],
   "source": [
    "bbl_unmet_metrics = pd.read_csv(\"wav_overall_unmet_ratio.csv\",header=None)\n",
    "#bbl_unmet_metrics = pd.read_csv(input_file, header=None)\n",
    "\n",
    "#bbl_number, total_demand, total_freemins, overall unmet ratio\n",
    "bbl_unmet_metrics.rename(columns={0:\"bbl_number\", 1:\"total_demand\", 2:\"total_freemins\",3:\"total_unmet_ratio\"}, inplace=True)\n",
    "print bbl_unmet_metrics.shape\n",
    "print bbl_unmet_metrics.info()\n",
    "bbl_unmet_metrics.head()"
   ]
  },
  {
   "cell_type": "code",
   "execution_count": 56,
   "metadata": {
    "collapsed": false
   },
   "outputs": [
    {
     "data": {
      "text/plain": [
       "166850"
      ]
     },
     "execution_count": 56,
     "metadata": {},
     "output_type": "execute_result"
    }
   ],
   "source": [
    "bbl_unmet_metrics.bbl_number.count()"
   ]
  },
  {
   "cell_type": "code",
   "execution_count": 57,
   "metadata": {
    "collapsed": false
   },
   "outputs": [
    {
     "data": {
      "text/plain": [
       "count    166850.000000\n",
       "mean         58.422997\n",
       "std         846.288241\n",
       "min           1.000000\n",
       "25%           1.000000\n",
       "50%           3.000000\n",
       "75%          12.000000\n",
       "max      224013.000000\n",
       "Name: total_demand, dtype: float64"
      ]
     },
     "execution_count": 57,
     "metadata": {},
     "output_type": "execute_result"
    }
   ],
   "source": [
    "bbl_unmet_metrics.total_demand.describe()"
   ]
  },
  {
   "cell_type": "code",
   "execution_count": 58,
   "metadata": {
    "collapsed": false
   },
   "outputs": [
    {
     "data": {
      "text/plain": [
       "count     166850.000000\n",
       "mean        1025.918771\n",
       "std        22801.152097\n",
       "min            1.000000\n",
       "25%           37.000000\n",
       "50%          136.000000\n",
       "75%          551.000000\n",
       "max      8206852.000000\n",
       "Name: total_freemins, dtype: float64"
      ]
     },
     "execution_count": 58,
     "metadata": {},
     "output_type": "execute_result"
    }
   ],
   "source": [
    "bbl_unmet_metrics.total_freemins.describe()"
   ]
  },
  {
   "cell_type": "code",
   "execution_count": 59,
   "metadata": {
    "collapsed": false
   },
   "outputs": [
    {
     "data": {
      "text/plain": [
       "count    166850.000000\n",
       "mean          0.072372\n",
       "std           0.114711\n",
       "min           0.000072\n",
       "25%           0.013189\n",
       "50%           0.038462\n",
       "75%           0.090909\n",
       "max           3.200000\n",
       "Name: total_unmet_ratio, dtype: float64"
      ]
     },
     "execution_count": 59,
     "metadata": {},
     "output_type": "execute_result"
    }
   ],
   "source": [
    "bbl_unmet_metrics.total_unmet_ratio.describe()"
   ]
  },
  {
   "cell_type": "code",
   "execution_count": 60,
   "metadata": {
    "collapsed": true
   },
   "outputs": [],
   "source": [
    "allbbl_field = pd.read_csv('All_bbl.csv')"
   ]
  },
  {
   "cell_type": "code",
   "execution_count": 61,
   "metadata": {
    "collapsed": false
   },
   "outputs": [
    {
     "data": {
      "text/plain": [
       "Index([u'Unnamed: 0', u'BBL', u'geometry', u'Borough', u'LandUse'], dtype='object')"
      ]
     },
     "execution_count": 61,
     "metadata": {},
     "output_type": "execute_result"
    }
   ],
   "source": [
    "allbbl_field.columns"
   ]
  },
  {
   "cell_type": "code",
   "execution_count": 62,
   "metadata": {
    "collapsed": false
   },
   "outputs": [],
   "source": [
    "allbbl_field = allbbl_field.drop(['Unnamed: 0'],axis=1).rename(columns={'BBL':'bbl_number'})"
   ]
  },
  {
   "cell_type": "code",
   "execution_count": 63,
   "metadata": {
    "collapsed": false
   },
   "outputs": [],
   "source": [
    "bbl_meaning = pd.read_excel('BBL_code_meaning.xlsx')"
   ]
  },
  {
   "cell_type": "code",
   "execution_count": 64,
   "metadata": {
    "collapsed": false
   },
   "outputs": [],
   "source": [
    "bbl_meaning = bbl_meaning.rename(columns={'Code':'LandUse'})"
   ]
  },
  {
   "cell_type": "code",
   "execution_count": 65,
   "metadata": {
    "collapsed": true
   },
   "outputs": [],
   "source": [
    "allbbl_field_final = pd.merge(allbbl_field,bbl_meaning,on='LandUse',how='left')"
   ]
  },
  {
   "cell_type": "code",
   "execution_count": 66,
   "metadata": {
    "collapsed": false
   },
   "outputs": [
    {
     "data": {
      "text/html": [
       "<div style=\"max-height:1000px;max-width:1500px;overflow:auto;\">\n",
       "<table border=\"1\" class=\"dataframe\">\n",
       "  <thead>\n",
       "    <tr style=\"text-align: right;\">\n",
       "      <th></th>\n",
       "      <th>bbl_number</th>\n",
       "      <th>geometry</th>\n",
       "      <th>Borough</th>\n",
       "      <th>LandUse</th>\n",
       "      <th>Desc</th>\n",
       "    </tr>\n",
       "  </thead>\n",
       "  <tbody>\n",
       "    <tr>\n",
       "      <th>0</th>\n",
       "      <td>1015450052</td>\n",
       "      <td>POLYGON ((-73.95296500000001 40.775501, -73.95...</td>\n",
       "      <td>MN</td>\n",
       "      <td>4</td>\n",
       "      <td>Mixed Residential &amp; Commercial Buildings</td>\n",
       "    </tr>\n",
       "    <tr>\n",
       "      <th>1</th>\n",
       "      <td>1007237501</td>\n",
       "      <td>POLYGON ((-74.000308 40.748145, -74.000641 40....</td>\n",
       "      <td>MN</td>\n",
       "      <td>3</td>\n",
       "      <td>Multi-Family Elevator Buildings</td>\n",
       "    </tr>\n",
       "  </tbody>\n",
       "</table>\n",
       "</div>"
      ],
      "text/plain": [
       "   bbl_number                                           geometry Borough  \\\n",
       "0  1015450052  POLYGON ((-73.95296500000001 40.775501, -73.95...      MN   \n",
       "1  1007237501  POLYGON ((-74.000308 40.748145, -74.000641 40....      MN   \n",
       "\n",
       "   LandUse                                       Desc  \n",
       "0        4  Mixed Residential & Commercial Buildings   \n",
       "1        3            Multi-Family Elevator Buildings  "
      ]
     },
     "execution_count": 66,
     "metadata": {},
     "output_type": "execute_result"
    }
   ],
   "source": [
    "allbbl_field_final.head(2)"
   ]
  },
  {
   "cell_type": "code",
   "execution_count": 67,
   "metadata": {
    "collapsed": false
   },
   "outputs": [
    {
     "name": "stdout",
     "output_type": "stream",
     "text": [
      "<class 'pandas.core.frame.DataFrame'>\n",
      "Int64Index: 857216 entries, 0 to 857215\n",
      "Data columns (total 5 columns):\n",
      "bbl_number    857216 non-null int64\n",
      "geometry      857216 non-null object\n",
      "Borough       857216 non-null object\n",
      "LandUse       854147 non-null float64\n",
      "Desc          854147 non-null object\n",
      "dtypes: float64(1), int64(1), object(3)\n",
      "memory usage: 39.2+ MB\n"
     ]
    }
   ],
   "source": [
    "allbbl_field_final.info()"
   ]
  },
  {
   "cell_type": "markdown",
   "metadata": {},
   "source": [
    "# determining the cut off for demand"
   ]
  },
  {
   "cell_type": "code",
   "execution_count": 68,
   "metadata": {
    "collapsed": true
   },
   "outputs": [],
   "source": [
    "global perc_33th_value, perc_66th_value\n",
    "## unmet\n",
    "def bbl_bucketing_unmet(row):\n",
    "    \n",
    "    # BBL bucketing\n",
    "    if (row['total_demand']!=0) & (row['total_freemins']!=0) & (row['total_unmet_ratio']>=perc_66th_value):\n",
    "        return \"Top33_P\"\n",
    "    elif (row['total_demand']!=0) & (row['total_freemins']!=0) & (row['total_unmet_ratio']>=perc_33th_value) & (row['total_unmet_ratio']<perc_66th_value):\n",
    "        return \"Middle33_P\"\n",
    "    else:\n",
    "        return \"Bottom33_P\"\n",
    "    "
   ]
  },
  {
   "cell_type": "code",
   "execution_count": 69,
   "metadata": {
    "collapsed": true
   },
   "outputs": [],
   "source": [
    "## for wav total demand\n",
    "\n",
    "def bbl_bucketing_total_demand(row):\n",
    "    \n",
    "    # BBL bucketing\n",
    "    if (row['total_demand']!=0) & (row['total_freemins']!=0) & (row['total_demand']>=perc_66th_value):\n",
    "        return \"Top33_P\"\n",
    "    elif (row['total_demand']!=0) & (row['total_freemins']!=0) & (row['total_demand']>=perc_33th_value) & (row['total_demand']<perc_66th_value):\n",
    "        return \"Middle33_P\"\n",
    "    else:\n",
    "        return \"Bottom33_P\""
   ]
  },
  {
   "cell_type": "code",
   "execution_count": 70,
   "metadata": {
    "collapsed": true
   },
   "outputs": [],
   "source": [
    "## for wav total demand\n",
    "\n",
    "def bbl_bucketing_total_free(row):\n",
    "    \n",
    "    # BBL bucketing\n",
    "    if (row['total_demand']!=0) & (row['total_freemins']!=0) & (row['total_freemins']>=perc_66th_value):\n",
    "        return \"Top33_P\"\n",
    "    elif (row['total_demand']!=0) & (row['total_freemins']!=0) & (row['total_freemins']>=perc_33th_value) & (row['total_freemins']<perc_66th_value):\n",
    "        return \"Middle33_P\"\n",
    "    else:\n",
    "        return \"Bottom33_P\""
   ]
  },
  {
   "cell_type": "code",
   "execution_count": 71,
   "metadata": {
    "collapsed": true
   },
   "outputs": [],
   "source": [
    "## overall wav consideration "
   ]
  },
  {
   "cell_type": "code",
   "execution_count": 72,
   "metadata": {
    "collapsed": false
   },
   "outputs": [
    {
     "name": "stdout",
     "output_type": "stream",
     "text": [
      "0.0192307692308 0.0666666666667\n",
      "Top33_P       57146\n",
      "Middle33_P    55011\n",
      "Bottom33_P    54693\n",
      "dtype: int64\n"
     ]
    }
   ],
   "source": [
    "## for unmet\n",
    "data_u = bbl_unmet_metrics\n",
    "perc_33th_value = np.percentile(data_u['total_unmet_ratio'], 33)\n",
    "perc_66th_value = np.percentile(data_u['total_unmet_ratio'], 66)\n",
    "print perc_33th_value, perc_66th_value\n",
    "data_u['spatial_bkt'] = data_u.apply(bbl_bucketing_unmet, axis=1)\n",
    "print data_u['spatial_bkt'].value_counts()\n",
    "#data[['bbl_number', 'spatial_bkt']].to_csv(\"overall_bbl_counts.csv\", index=None)"
   ]
  },
  {
   "cell_type": "code",
   "execution_count": 73,
   "metadata": {
    "collapsed": false
   },
   "outputs": [
    {
     "name": "stdout",
     "output_type": "stream",
     "text": [
      "2.0 6.0\n",
      "Top33_P       60628\n",
      "Bottom33_P    54656\n",
      "Middle33_P    51566\n",
      "dtype: int64\n"
     ]
    }
   ],
   "source": [
    "## for totaldemand\n",
    "data_t = bbl_unmet_metrics\n",
    "perc_33th_value = np.percentile(data_t['total_demand'], 33)\n",
    "perc_66th_value = np.percentile(data_t['total_demand'], 66)\n",
    "print perc_33th_value, perc_66th_value\n",
    "data_t['spatial_bkt'] = data_t.apply(bbl_bucketing_total_demand, axis=1)\n",
    "print data_t['spatial_bkt'].value_counts()"
   ]
  },
  {
   "cell_type": "code",
   "execution_count": 74,
   "metadata": {
    "collapsed": false
   },
   "outputs": [
    {
     "name": "stdout",
     "output_type": "stream",
     "text": [
      "57.0 321.0\n",
      "Top33_P       56770\n",
      "Middle33_P    55410\n",
      "Bottom33_P    54670\n",
      "dtype: int64\n"
     ]
    }
   ],
   "source": [
    "## for free minute :\n",
    "data_f = bbl_unmet_metrics\n",
    "perc_33th_value = np.percentile(data_f['total_freemins'], 33)\n",
    "perc_66th_value = np.percentile(data_f['total_freemins'], 66)\n",
    "print perc_33th_value, perc_66th_value\n",
    "data_f['spatial_bkt'] = data_f.apply(bbl_bucketing_total_free, axis=1)\n",
    "print data_f['spatial_bkt'].value_counts()"
   ]
  },
  {
   "cell_type": "code",
   "execution_count": 75,
   "metadata": {
    "collapsed": true
   },
   "outputs": [],
   "source": [
    "dat_u = pd.merge(data_u,allbbl_field_final,on='bbl_number',how='inner')"
   ]
  },
  {
   "cell_type": "code",
   "execution_count": 76,
   "metadata": {
    "collapsed": true
   },
   "outputs": [],
   "source": [
    "dat_u[['bbl_number','spatial_bkt','geometry']].to_csv('wav_bucket_unmet.csv')"
   ]
  },
  {
   "cell_type": "code",
   "execution_count": 77,
   "metadata": {
    "collapsed": true
   },
   "outputs": [],
   "source": [
    "dat_t = pd.merge(data_t,allbbl_field_final,on='bbl_number',how='inner')"
   ]
  },
  {
   "cell_type": "code",
   "execution_count": 78,
   "metadata": {
    "collapsed": false
   },
   "outputs": [],
   "source": [
    "dat_t[['bbl_number','spatial_bkt','geometry']].to_csv('wav_bucket_total.csv')"
   ]
  },
  {
   "cell_type": "code",
   "execution_count": 79,
   "metadata": {
    "collapsed": true
   },
   "outputs": [],
   "source": [
    "dat_f = pd.merge(data_f,allbbl_field_final,on='bbl_number',how='inner')"
   ]
  },
  {
   "cell_type": "code",
   "execution_count": 80,
   "metadata": {
    "collapsed": true
   },
   "outputs": [],
   "source": [
    "dat_f[['bbl_number','spatial_bkt','geometry']].to_csv('wav_bucket_free.csv')"
   ]
  },
  {
   "cell_type": "code",
   "execution_count": null,
   "metadata": {
    "collapsed": true
   },
   "outputs": [],
   "source": []
  },
  {
   "cell_type": "code",
   "execution_count": null,
   "metadata": {
    "collapsed": true
   },
   "outputs": [],
   "source": [
    "data_1[data_1.total_demand>100].sort('total_unmet_ratio', ascending=False)[:20]"
   ]
  },
  {
   "cell_type": "code",
   "execution_count": null,
   "metadata": {
    "collapsed": true
   },
   "outputs": [],
   "source": []
  },
  {
   "cell_type": "markdown",
   "metadata": {},
   "source": [
    "### Overall Segment"
   ]
  },
  {
   "cell_type": "code",
   "execution_count": null,
   "metadata": {
    "collapsed": true
   },
   "outputs": [],
   "source": []
  },
  {
   "cell_type": "code",
   "execution_count": 51,
   "metadata": {
    "collapsed": false
   },
   "outputs": [
    {
     "name": "stdout",
     "output_type": "stream",
     "text": [
      "0.00854700854701 0.032967032967\n",
      "No Demand      472728\n",
      "Top33_P        105125\n",
      "Middle33_P     102057\n",
      "Bottom33_P     101855\n",
      "No Coverage     75304\n",
      "No Supply         147\n",
      "dtype: int64\n"
     ]
    }
   ],
   "source": [
    "data = bbl_unmet_metrics_1.groupby('bbl_number')[['total_demand', 'total_freemins']].sum()\n",
    "data = data.reset_index()\n",
    "data['total_unmet_ratio'] = data['total_demand']*1.0/data['total_freemins']\n",
    "data_1 = data[(data.total_demand!=0) & (data.total_freemins!=0)]\n",
    "perc_33th_value = np.percentile(data_1['total_unmet_ratio'], 33)\n",
    "perc_66th_value = np.percentile(data_1['total_unmet_ratio'], 66)\n",
    "print perc_33th_value, perc_66th_value\n",
    "data['spatial_bkt'] = data.apply(bbl_bucketing, axis=1)\n",
    "print data['spatial_bkt'].value_counts()\n",
    "#data[['bbl_number', 'spatial_bkt']].to_csv(\"overall_bbl_counts.csv\", index=None)"
   ]
  },
  {
   "cell_type": "code",
   "execution_count": 52,
   "metadata": {
    "collapsed": false
   },
   "outputs": [
    {
     "data": {
      "text/html": [
       "<div style=\"max-height:1000px;max-width:1500px;overflow:auto;\">\n",
       "<table border=\"1\" class=\"dataframe\">\n",
       "  <thead>\n",
       "    <tr style=\"text-align: right;\">\n",
       "      <th></th>\n",
       "      <th>bbl_number</th>\n",
       "      <th>total_demand</th>\n",
       "      <th>total_freemins</th>\n",
       "      <th>total_unmet_ratio</th>\n",
       "      <th>spatial_bkt</th>\n",
       "    </tr>\n",
       "  </thead>\n",
       "  <tbody>\n",
       "    <tr>\n",
       "      <th>0</th>\n",
       "      <td>1000010010</td>\n",
       "      <td>97</td>\n",
       "      <td>1283</td>\n",
       "      <td>0.075604</td>\n",
       "      <td>Top33_P</td>\n",
       "    </tr>\n",
       "    <tr>\n",
       "      <th>1</th>\n",
       "      <td>1000010101</td>\n",
       "      <td>4</td>\n",
       "      <td>24</td>\n",
       "      <td>0.166667</td>\n",
       "      <td>Top33_P</td>\n",
       "    </tr>\n",
       "  </tbody>\n",
       "</table>\n",
       "</div>"
      ],
      "text/plain": [
       "   bbl_number  total_demand  total_freemins  total_unmet_ratio spatial_bkt\n",
       "0  1000010010            97            1283           0.075604     Top33_P\n",
       "1  1000010101             4              24           0.166667     Top33_P"
      ]
     },
     "execution_count": 52,
     "metadata": {},
     "output_type": "execute_result"
    }
   ],
   "source": [
    "data.head(2)"
   ]
  },
  {
   "cell_type": "code",
   "execution_count": 53,
   "metadata": {
    "collapsed": false
   },
   "outputs": [],
   "source": [
    "dat = pd.merge(data,allbbl_field_final,on='bbl_number',how='inner')"
   ]
  },
  {
   "cell_type": "code",
   "execution_count": 56,
   "metadata": {
    "collapsed": false
   },
   "outputs": [],
   "source": [
    "dat[dat.Borough=='MN'].to_csv('Overallbucketing_manhaten.csv')"
   ]
  },
  {
   "cell_type": "code",
   "execution_count": null,
   "metadata": {
    "collapsed": false
   },
   "outputs": [],
   "source": [
    "#dat[['bbl_number','spatial_bkt','geometry']].to_csv('weekend[8-12pm].csv')"
   ]
  },
  {
   "cell_type": "code",
   "execution_count": 34,
   "metadata": {
    "collapsed": false
   },
   "outputs": [],
   "source": [
    "dat[dat.total_demand>233].sort('total_unmet_ratio', ascending=False)[:50][['bbl_number','geometry','spatial_bkt']].to_csv('test.csv')"
   ]
  },
  {
   "cell_type": "code",
   "execution_count": 36,
   "metadata": {
    "collapsed": false,
    "scrolled": true
   },
   "outputs": [
    {
     "data": {
      "text/html": [
       "<div style=\"max-height:1000px;max-width:1500px;overflow:auto;\">\n",
       "<table border=\"1\" class=\"dataframe\">\n",
       "  <thead>\n",
       "    <tr style=\"text-align: right;\">\n",
       "      <th></th>\n",
       "      <th>bbl_number</th>\n",
       "      <th>total_demand</th>\n",
       "      <th>total_freemins</th>\n",
       "      <th>total_unmet_ratio</th>\n",
       "      <th>spatial_bkt</th>\n",
       "      <th>geometry</th>\n",
       "      <th>Borough</th>\n",
       "      <th>LandUse</th>\n",
       "      <th>Desc</th>\n",
       "    </tr>\n",
       "  </thead>\n",
       "  <tbody>\n",
       "    <tr>\n",
       "      <th>497776</th>\n",
       "      <td>4035390100</td>\n",
       "      <td>374</td>\n",
       "      <td>221</td>\n",
       "      <td>1.692308</td>\n",
       "      <td>Top33_P</td>\n",
       "      <td>POLYGON ((-73.904855 40.694955, -73.905643 40....</td>\n",
       "      <td>QN</td>\n",
       "      <td>6</td>\n",
       "      <td>Industrial &amp; Manufacturing</td>\n",
       "    </tr>\n",
       "    <tr>\n",
       "      <th>6570</th>\n",
       "      <td>1004950001</td>\n",
       "      <td>22182</td>\n",
       "      <td>37748</td>\n",
       "      <td>0.587634</td>\n",
       "      <td>Top33_P</td>\n",
       "      <td>POLYGON ((-73.996787 40.722551, -73.9968960000...</td>\n",
       "      <td>MN</td>\n",
       "      <td>4</td>\n",
       "      <td>Mixed Residential &amp; Commercial Buildings</td>\n",
       "    </tr>\n",
       "    <tr>\n",
       "      <th>9245</th>\n",
       "      <td>1006100017</td>\n",
       "      <td>2414</td>\n",
       "      <td>4539</td>\n",
       "      <td>0.531835</td>\n",
       "      <td>Top33_P</td>\n",
       "      <td>POLYGON ((-74.00173700000001 40.7343, -74.0017...</td>\n",
       "      <td>MN</td>\n",
       "      <td>10</td>\n",
       "      <td>Parking Facilities</td>\n",
       "    </tr>\n",
       "    <tr>\n",
       "      <th>4742</th>\n",
       "      <td>1004290002</td>\n",
       "      <td>11284</td>\n",
       "      <td>21360</td>\n",
       "      <td>0.528277</td>\n",
       "      <td>Top33_P</td>\n",
       "      <td>POLYGON ((-73.987927 40.723327, -73.9879860000...</td>\n",
       "      <td>MN</td>\n",
       "      <td>4</td>\n",
       "      <td>Mixed Residential &amp; Commercial Buildings</td>\n",
       "    </tr>\n",
       "    <tr>\n",
       "      <th>494570</th>\n",
       "      <td>4034440041</td>\n",
       "      <td>1489</td>\n",
       "      <td>2920</td>\n",
       "      <td>0.509932</td>\n",
       "      <td>Top33_P</td>\n",
       "      <td>POLYGON ((-73.911412 40.700081, -73.9115769999...</td>\n",
       "      <td>QN</td>\n",
       "      <td>4</td>\n",
       "      <td>Mixed Residential &amp; Commercial Buildings</td>\n",
       "    </tr>\n",
       "    <tr>\n",
       "      <th>8727</th>\n",
       "      <td>1005890041</td>\n",
       "      <td>5090</td>\n",
       "      <td>10469</td>\n",
       "      <td>0.486197</td>\n",
       "      <td>Top33_P</td>\n",
       "      <td>POLYGON ((-74.00183800000001 40.730752, -74.00...</td>\n",
       "      <td>MN</td>\n",
       "      <td>5</td>\n",
       "      <td>Commercial &amp; Office Buildings</td>\n",
       "    </tr>\n",
       "    <tr>\n",
       "      <th>11230</th>\n",
       "      <td>1007400010</td>\n",
       "      <td>914</td>\n",
       "      <td>1882</td>\n",
       "      <td>0.485654</td>\n",
       "      <td>Top33_P</td>\n",
       "      <td>POLYGON ((-74.003235 40.742169, -74.003399 40....</td>\n",
       "      <td>MN</td>\n",
       "      <td>2</td>\n",
       "      <td>Multi-Family Walk-Up Buildings</td>\n",
       "    </tr>\n",
       "    <tr>\n",
       "      <th>4743</th>\n",
       "      <td>1004290004</td>\n",
       "      <td>5401</td>\n",
       "      <td>11171</td>\n",
       "      <td>0.483484</td>\n",
       "      <td>Top33_P</td>\n",
       "      <td>POLYGON ((-73.987791 40.723343, -73.987832 40....</td>\n",
       "      <td>MN</td>\n",
       "      <td>4</td>\n",
       "      <td>Mixed Residential &amp; Commercial Buildings</td>\n",
       "    </tr>\n",
       "    <tr>\n",
       "      <th>141408</th>\n",
       "      <td>3005310003</td>\n",
       "      <td>281</td>\n",
       "      <td>598</td>\n",
       "      <td>0.469900</td>\n",
       "      <td>Top33_P</td>\n",
       "      <td>POLYGON ((-74.010564 40.67891, -74.010609 40.6...</td>\n",
       "      <td>BK</td>\n",
       "      <td>4</td>\n",
       "      <td>Mixed Residential &amp; Commercial Buildings</td>\n",
       "    </tr>\n",
       "    <tr>\n",
       "      <th>42697</th>\n",
       "      <td>2000008900</td>\n",
       "      <td>18773</td>\n",
       "      <td>40235</td>\n",
       "      <td>0.466584</td>\n",
       "      <td>Top33_P</td>\n",
       "      <td>MULTIPOLYGON (((-73.90579200000001 40.899678, ...</td>\n",
       "      <td>BX</td>\n",
       "      <td>NaN</td>\n",
       "      <td>NaN</td>\n",
       "    </tr>\n",
       "    <tr>\n",
       "      <th>6607</th>\n",
       "      <td>1004960034</td>\n",
       "      <td>24943</td>\n",
       "      <td>54016</td>\n",
       "      <td>0.461771</td>\n",
       "      <td>Top33_P</td>\n",
       "      <td>POLYGON ((-73.997129 40.722625, -73.997214 40....</td>\n",
       "      <td>MN</td>\n",
       "      <td>4</td>\n",
       "      <td>Mixed Residential &amp; Commercial Buildings</td>\n",
       "    </tr>\n",
       "    <tr>\n",
       "      <th>6773</th>\n",
       "      <td>1005040043</td>\n",
       "      <td>33698</td>\n",
       "      <td>73486</td>\n",
       "      <td>0.458564</td>\n",
       "      <td>Top33_P</td>\n",
       "      <td>POLYGON ((-74.003561 40.725797, -74.003585 40....</td>\n",
       "      <td>MN</td>\n",
       "      <td>5</td>\n",
       "      <td>Commercial &amp; Office Buildings</td>\n",
       "    </tr>\n",
       "    <tr>\n",
       "      <th>4919</th>\n",
       "      <td>1004360060</td>\n",
       "      <td>32909</td>\n",
       "      <td>74129</td>\n",
       "      <td>0.443942</td>\n",
       "      <td>Top33_P</td>\n",
       "      <td>POLYGON ((-73.98491 40.727755, -73.985045 40.7...</td>\n",
       "      <td>MN</td>\n",
       "      <td>4</td>\n",
       "      <td>Mixed Residential &amp; Commercial Buildings</td>\n",
       "    </tr>\n",
       "    <tr>\n",
       "      <th>25055</th>\n",
       "      <td>1014300003</td>\n",
       "      <td>5134</td>\n",
       "      <td>11575</td>\n",
       "      <td>0.443542</td>\n",
       "      <td>Top33_P</td>\n",
       "      <td>POLYGON ((-73.95849200000001 40.771763, -73.95...</td>\n",
       "      <td>MN</td>\n",
       "      <td>4</td>\n",
       "      <td>Mixed Residential &amp; Commercial Buildings</td>\n",
       "    </tr>\n",
       "    <tr>\n",
       "      <th>203066</th>\n",
       "      <td>3024150026</td>\n",
       "      <td>5583</td>\n",
       "      <td>12801</td>\n",
       "      <td>0.436138</td>\n",
       "      <td>Top33_P</td>\n",
       "      <td>POLYGON ((-73.965361 40.714042, -73.9654550000...</td>\n",
       "      <td>BK</td>\n",
       "      <td>4</td>\n",
       "      <td>Mixed Residential &amp; Commercial Buildings</td>\n",
       "    </tr>\n",
       "    <tr>\n",
       "      <th>9785</th>\n",
       "      <td>1006220001</td>\n",
       "      <td>18456</td>\n",
       "      <td>42593</td>\n",
       "      <td>0.433311</td>\n",
       "      <td>Top33_P</td>\n",
       "      <td>POLYGON ((-74.005618 40.735422, -74.005577 40....</td>\n",
       "      <td>MN</td>\n",
       "      <td>4</td>\n",
       "      <td>Mixed Residential &amp; Commercial Buildings</td>\n",
       "    </tr>\n",
       "    <tr>\n",
       "      <th>9303</th>\n",
       "      <td>1006110035</td>\n",
       "      <td>10671</td>\n",
       "      <td>25113</td>\n",
       "      <td>0.424919</td>\n",
       "      <td>Top33_P</td>\n",
       "      <td>POLYGON ((-74.002111 40.734448, -74.002133 40....</td>\n",
       "      <td>MN</td>\n",
       "      <td>5</td>\n",
       "      <td>Commercial &amp; Office Buildings</td>\n",
       "    </tr>\n",
       "    <tr>\n",
       "      <th>494567</th>\n",
       "      <td>4034440033</td>\n",
       "      <td>3130</td>\n",
       "      <td>7391</td>\n",
       "      <td>0.423488</td>\n",
       "      <td>Top33_P</td>\n",
       "      <td>POLYGON ((-73.91092 40.700027, -73.91075600000...</td>\n",
       "      <td>QN</td>\n",
       "      <td>5</td>\n",
       "      <td>Commercial &amp; Office Buildings</td>\n",
       "    </tr>\n",
       "    <tr>\n",
       "      <th>6647</th>\n",
       "      <td>1004990018</td>\n",
       "      <td>3935</td>\n",
       "      <td>9326</td>\n",
       "      <td>0.421939</td>\n",
       "      <td>Top33_P</td>\n",
       "      <td>POLYGON ((-73.998766 40.724653, -73.998868 40....</td>\n",
       "      <td>MN</td>\n",
       "      <td>2</td>\n",
       "      <td>Multi-Family Walk-Up Buildings</td>\n",
       "    </tr>\n",
       "    <tr>\n",
       "      <th>23864</th>\n",
       "      <td>1013920012</td>\n",
       "      <td>1351</td>\n",
       "      <td>3231</td>\n",
       "      <td>0.418137</td>\n",
       "      <td>Top33_P</td>\n",
       "      <td>POLYGON ((-73.96336100000001 40.775534, -73.96...</td>\n",
       "      <td>MN</td>\n",
       "      <td>1</td>\n",
       "      <td>One &amp;Two Family Buildings</td>\n",
       "    </tr>\n",
       "    <tr>\n",
       "      <th>23809</th>\n",
       "      <td>1013900047</td>\n",
       "      <td>1314</td>\n",
       "      <td>3153</td>\n",
       "      <td>0.416746</td>\n",
       "      <td>Top33_P</td>\n",
       "      <td>POLYGON ((-73.963024 40.774065, -73.9632079999...</td>\n",
       "      <td>MN</td>\n",
       "      <td>1</td>\n",
       "      <td>One &amp;Two Family Buildings</td>\n",
       "    </tr>\n",
       "    <tr>\n",
       "      <th>23794</th>\n",
       "      <td>1013900014</td>\n",
       "      <td>802</td>\n",
       "      <td>1929</td>\n",
       "      <td>0.415759</td>\n",
       "      <td>Top33_P</td>\n",
       "      <td>POLYGON ((-73.964236 40.774005, -73.964288 40....</td>\n",
       "      <td>MN</td>\n",
       "      <td>4</td>\n",
       "      <td>Mixed Residential &amp; Commercial Buildings</td>\n",
       "    </tr>\n",
       "    <tr>\n",
       "      <th>11231</th>\n",
       "      <td>1007400011</td>\n",
       "      <td>626</td>\n",
       "      <td>1508</td>\n",
       "      <td>0.415119</td>\n",
       "      <td>Top33_P</td>\n",
       "      <td>POLYGON ((-74.00315500000001 40.742136, -74.00...</td>\n",
       "      <td>MN</td>\n",
       "      <td>2</td>\n",
       "      <td>Multi-Family Walk-Up Buildings</td>\n",
       "    </tr>\n",
       "    <tr>\n",
       "      <th>25054</th>\n",
       "      <td>1014300002</td>\n",
       "      <td>6038</td>\n",
       "      <td>14664</td>\n",
       "      <td>0.411757</td>\n",
       "      <td>Top33_P</td>\n",
       "      <td>POLYGON ((-73.95854 40.771697, -73.95859 40.77...</td>\n",
       "      <td>MN</td>\n",
       "      <td>4</td>\n",
       "      <td>Mixed Residential &amp; Commercial Buildings</td>\n",
       "    </tr>\n",
       "    <tr>\n",
       "      <th>8047</th>\n",
       "      <td>1005690028</td>\n",
       "      <td>5910</td>\n",
       "      <td>14426</td>\n",
       "      <td>0.409677</td>\n",
       "      <td>Top33_P</td>\n",
       "      <td>POLYGON ((-73.99332200000001 40.733479, -73.99...</td>\n",
       "      <td>MN</td>\n",
       "      <td>5</td>\n",
       "      <td>Commercial &amp; Office Buildings</td>\n",
       "    </tr>\n",
       "    <tr>\n",
       "      <th>8904</th>\n",
       "      <td>1005930027</td>\n",
       "      <td>8492</td>\n",
       "      <td>21007</td>\n",
       "      <td>0.404246</td>\n",
       "      <td>Top33_P</td>\n",
       "      <td>POLYGON ((-74.000077 40.733172, -74.000118 40....</td>\n",
       "      <td>MN</td>\n",
       "      <td>4</td>\n",
       "      <td>Mixed Residential &amp; Commercial Buildings</td>\n",
       "    </tr>\n",
       "    <tr>\n",
       "      <th>9635</th>\n",
       "      <td>1006190009</td>\n",
       "      <td>12545</td>\n",
       "      <td>31054</td>\n",
       "      <td>0.403974</td>\n",
       "      <td>Top33_P</td>\n",
       "      <td>POLYGON ((-74.006024 40.733676, -74.006024 40....</td>\n",
       "      <td>MN</td>\n",
       "      <td>4</td>\n",
       "      <td>Mixed Residential &amp; Commercial Buildings</td>\n",
       "    </tr>\n",
       "    <tr>\n",
       "      <th>10403</th>\n",
       "      <td>1006440055</td>\n",
       "      <td>5203</td>\n",
       "      <td>12963</td>\n",
       "      <td>0.401373</td>\n",
       "      <td>Top33_P</td>\n",
       "      <td>POLYGON ((-74.006576 40.739569, -74.006607 40....</td>\n",
       "      <td>MN</td>\n",
       "      <td>1</td>\n",
       "      <td>One &amp;Two Family Buildings</td>\n",
       "    </tr>\n",
       "    <tr>\n",
       "      <th>8200</th>\n",
       "      <td>1005740002</td>\n",
       "      <td>4945</td>\n",
       "      <td>12322</td>\n",
       "      <td>0.401315</td>\n",
       "      <td>Top33_P</td>\n",
       "      <td>POLYGON ((-73.998257 40.73484, -73.998296 40.7...</td>\n",
       "      <td>MN</td>\n",
       "      <td>4</td>\n",
       "      <td>Mixed Residential &amp; Commercial Buildings</td>\n",
       "    </tr>\n",
       "    <tr>\n",
       "      <th>5118</th>\n",
       "      <td>1004430038</td>\n",
       "      <td>1409</td>\n",
       "      <td>3534</td>\n",
       "      <td>0.398698</td>\n",
       "      <td>Top33_P</td>\n",
       "      <td>POLYGON ((-73.988479 40.723512, -73.988507 40....</td>\n",
       "      <td>MN</td>\n",
       "      <td>4</td>\n",
       "      <td>Mixed Residential &amp; Commercial Buildings</td>\n",
       "    </tr>\n",
       "    <tr>\n",
       "      <th>23863</th>\n",
       "      <td>1013920011</td>\n",
       "      <td>837</td>\n",
       "      <td>2100</td>\n",
       "      <td>0.398571</td>\n",
       "      <td>Top33_P</td>\n",
       "      <td>POLYGON ((-73.963492 40.77559, -73.963466 40.7...</td>\n",
       "      <td>MN</td>\n",
       "      <td>1</td>\n",
       "      <td>One &amp;Two Family Buildings</td>\n",
       "    </tr>\n",
       "    <tr>\n",
       "      <th>9674</th>\n",
       "      <td>1006190074</td>\n",
       "      <td>36270</td>\n",
       "      <td>91017</td>\n",
       "      <td>0.398497</td>\n",
       "      <td>Top33_P</td>\n",
       "      <td>POLYGON ((-74.00333500000001 40.733605, -74.00...</td>\n",
       "      <td>MN</td>\n",
       "      <td>5</td>\n",
       "      <td>Commercial &amp; Office Buildings</td>\n",
       "    </tr>\n",
       "    <tr>\n",
       "      <th>23895</th>\n",
       "      <td>1013920111</td>\n",
       "      <td>965</td>\n",
       "      <td>2422</td>\n",
       "      <td>0.398431</td>\n",
       "      <td>Top33_P</td>\n",
       "      <td>POLYGON ((-73.963438 40.775567, -73.963414 40....</td>\n",
       "      <td>MN</td>\n",
       "      <td>1</td>\n",
       "      <td>One &amp;Two Family Buildings</td>\n",
       "    </tr>\n",
       "    <tr>\n",
       "      <th>22430</th>\n",
       "      <td>1013240028</td>\n",
       "      <td>6236</td>\n",
       "      <td>15691</td>\n",
       "      <td>0.397425</td>\n",
       "      <td>Top33_P</td>\n",
       "      <td>POLYGON ((-73.968335 40.755402, -73.968373 40....</td>\n",
       "      <td>MN</td>\n",
       "      <td>4</td>\n",
       "      <td>Mixed Residential &amp; Commercial Buildings</td>\n",
       "    </tr>\n",
       "    <tr>\n",
       "      <th>11232</th>\n",
       "      <td>1007400012</td>\n",
       "      <td>453</td>\n",
       "      <td>1144</td>\n",
       "      <td>0.395979</td>\n",
       "      <td>Top33_P</td>\n",
       "      <td>POLYGON ((-74.00308200000001 40.742105, -74.00...</td>\n",
       "      <td>MN</td>\n",
       "      <td>2</td>\n",
       "      <td>Multi-Family Walk-Up Buildings</td>\n",
       "    </tr>\n",
       "    <tr>\n",
       "      <th>23793</th>\n",
       "      <td>1013900013</td>\n",
       "      <td>451</td>\n",
       "      <td>1139</td>\n",
       "      <td>0.395961</td>\n",
       "      <td>Top33_P</td>\n",
       "      <td>POLYGON ((-73.964203 40.774231, -73.964249 40....</td>\n",
       "      <td>MN</td>\n",
       "      <td>1</td>\n",
       "      <td>One &amp;Two Family Buildings</td>\n",
       "    </tr>\n",
       "    <tr>\n",
       "      <th>6474</th>\n",
       "      <td>1004900020</td>\n",
       "      <td>21757</td>\n",
       "      <td>55113</td>\n",
       "      <td>0.394771</td>\n",
       "      <td>Top33_P</td>\n",
       "      <td>POLYGON ((-74.00386 40.725394, -74.003935 40.7...</td>\n",
       "      <td>MN</td>\n",
       "      <td>NaN</td>\n",
       "      <td>NaN</td>\n",
       "    </tr>\n",
       "    <tr>\n",
       "      <th>6894</th>\n",
       "      <td>1005100030</td>\n",
       "      <td>23135</td>\n",
       "      <td>59294</td>\n",
       "      <td>0.390174</td>\n",
       "      <td>Top33_P</td>\n",
       "      <td>POLYGON ((-73.99597199999999 40.723866, -73.99...</td>\n",
       "      <td>MN</td>\n",
       "      <td>6</td>\n",
       "      <td>Industrial &amp; Manufacturing</td>\n",
       "    </tr>\n",
       "    <tr>\n",
       "      <th>8094</th>\n",
       "      <td>1005720002</td>\n",
       "      <td>6666</td>\n",
       "      <td>17096</td>\n",
       "      <td>0.389916</td>\n",
       "      <td>Top33_P</td>\n",
       "      <td>POLYGON ((-73.999039 40.733622, -73.999078 40....</td>\n",
       "      <td>MN</td>\n",
       "      <td>4</td>\n",
       "      <td>Mixed Residential &amp; Commercial Buildings</td>\n",
       "    </tr>\n",
       "    <tr>\n",
       "      <th>10804</th>\n",
       "      <td>1007160001</td>\n",
       "      <td>7221</td>\n",
       "      <td>18670</td>\n",
       "      <td>0.386770</td>\n",
       "      <td>Top33_P</td>\n",
       "      <td>POLYGON ((-74.005898 40.74461, -74.005944 40.7...</td>\n",
       "      <td>MN</td>\n",
       "      <td>4</td>\n",
       "      <td>Mixed Residential &amp; Commercial Buildings</td>\n",
       "    </tr>\n",
       "    <tr>\n",
       "      <th>9684</th>\n",
       "      <td>1006200001</td>\n",
       "      <td>20702</td>\n",
       "      <td>53540</td>\n",
       "      <td>0.386664</td>\n",
       "      <td>Top33_P</td>\n",
       "      <td>POLYGON ((-74.00579500000001 40.734007, -74.00...</td>\n",
       "      <td>MN</td>\n",
       "      <td>3</td>\n",
       "      <td>Multi-Family Elevator Buildings</td>\n",
       "    </tr>\n",
       "    <tr>\n",
       "      <th>664</th>\n",
       "      <td>1001337504</td>\n",
       "      <td>17677</td>\n",
       "      <td>45743</td>\n",
       "      <td>0.386442</td>\n",
       "      <td>Top33_P</td>\n",
       "      <td>POLYGON ((-74.00877199999999 40.714112, -74.00...</td>\n",
       "      <td>MN</td>\n",
       "      <td>4</td>\n",
       "      <td>Mixed Residential &amp; Commercial Buildings</td>\n",
       "    </tr>\n",
       "    <tr>\n",
       "      <th>25022</th>\n",
       "      <td>1014290002</td>\n",
       "      <td>6222</td>\n",
       "      <td>16216</td>\n",
       "      <td>0.383695</td>\n",
       "      <td>Top33_P</td>\n",
       "      <td>POLYGON ((-73.95910000000001 40.771124, -73.95...</td>\n",
       "      <td>MN</td>\n",
       "      <td>4</td>\n",
       "      <td>Mixed Residential &amp; Commercial Buildings</td>\n",
       "    </tr>\n",
       "    <tr>\n",
       "      <th>9077</th>\n",
       "      <td>1006060004</td>\n",
       "      <td>10293</td>\n",
       "      <td>26843</td>\n",
       "      <td>0.383452</td>\n",
       "      <td>Top33_P</td>\n",
       "      <td>POLYGON ((-73.99962499999999 40.734975, -73.99...</td>\n",
       "      <td>MN</td>\n",
       "      <td>5</td>\n",
       "      <td>Commercial &amp; Office Buildings</td>\n",
       "    </tr>\n",
       "    <tr>\n",
       "      <th>23823</th>\n",
       "      <td>1013900146</td>\n",
       "      <td>862</td>\n",
       "      <td>2256</td>\n",
       "      <td>0.382092</td>\n",
       "      <td>Top33_P</td>\n",
       "      <td>POLYGON ((-73.962964 40.77404, -73.963149 40.7...</td>\n",
       "      <td>MN</td>\n",
       "      <td>1</td>\n",
       "      <td>One &amp;Two Family Buildings</td>\n",
       "    </tr>\n",
       "    <tr>\n",
       "      <th>25046</th>\n",
       "      <td>1014290127</td>\n",
       "      <td>4389</td>\n",
       "      <td>11522</td>\n",
       "      <td>0.380923</td>\n",
       "      <td>Top33_P</td>\n",
       "      <td>POLYGON ((-73.95717500000001 40.770704, -73.95...</td>\n",
       "      <td>MN</td>\n",
       "      <td>4</td>\n",
       "      <td>Mixed Residential &amp; Commercial Buildings</td>\n",
       "    </tr>\n",
       "    <tr>\n",
       "      <th>6606</th>\n",
       "      <td>1004960033</td>\n",
       "      <td>2401</td>\n",
       "      <td>6311</td>\n",
       "      <td>0.380447</td>\n",
       "      <td>Top33_P</td>\n",
       "      <td>POLYGON ((-73.997103 40.722691, -73.997129 40....</td>\n",
       "      <td>MN</td>\n",
       "      <td>5</td>\n",
       "      <td>Commercial &amp; Office Buildings</td>\n",
       "    </tr>\n",
       "    <tr>\n",
       "      <th>9944</th>\n",
       "      <td>1006250051</td>\n",
       "      <td>13525</td>\n",
       "      <td>35638</td>\n",
       "      <td>0.379511</td>\n",
       "      <td>Top33_P</td>\n",
       "      <td>POLYGON ((-74.004351 40.737626, -74.004546 40....</td>\n",
       "      <td>MN</td>\n",
       "      <td>4</td>\n",
       "      <td>Mixed Residential &amp; Commercial Buildings</td>\n",
       "    </tr>\n",
       "    <tr>\n",
       "      <th>23862</th>\n",
       "      <td>1013920010</td>\n",
       "      <td>673</td>\n",
       "      <td>1782</td>\n",
       "      <td>0.377666</td>\n",
       "      <td>Top33_P</td>\n",
       "      <td>POLYGON ((-73.96354599999999 40.775613, -73.96...</td>\n",
       "      <td>MN</td>\n",
       "      <td>1</td>\n",
       "      <td>One &amp;Two Family Buildings</td>\n",
       "    </tr>\n",
       "    <tr>\n",
       "      <th>201788</th>\n",
       "      <td>3023260027</td>\n",
       "      <td>3968</td>\n",
       "      <td>10537</td>\n",
       "      <td>0.376578</td>\n",
       "      <td>Top33_P</td>\n",
       "      <td>POLYGON ((-73.95949899999999 40.718299, -73.95...</td>\n",
       "      <td>BK</td>\n",
       "      <td>4</td>\n",
       "      <td>Mixed Residential &amp; Commercial Buildings</td>\n",
       "    </tr>\n",
       "  </tbody>\n",
       "</table>\n",
       "</div>"
      ],
      "text/plain": [
       "        bbl_number  total_demand  total_freemins  total_unmet_ratio  \\\n",
       "497776  4035390100           374             221           1.692308   \n",
       "6570    1004950001         22182           37748           0.587634   \n",
       "9245    1006100017          2414            4539           0.531835   \n",
       "4742    1004290002         11284           21360           0.528277   \n",
       "494570  4034440041          1489            2920           0.509932   \n",
       "8727    1005890041          5090           10469           0.486197   \n",
       "11230   1007400010           914            1882           0.485654   \n",
       "4743    1004290004          5401           11171           0.483484   \n",
       "141408  3005310003           281             598           0.469900   \n",
       "42697   2000008900         18773           40235           0.466584   \n",
       "6607    1004960034         24943           54016           0.461771   \n",
       "6773    1005040043         33698           73486           0.458564   \n",
       "4919    1004360060         32909           74129           0.443942   \n",
       "25055   1014300003          5134           11575           0.443542   \n",
       "203066  3024150026          5583           12801           0.436138   \n",
       "9785    1006220001         18456           42593           0.433311   \n",
       "9303    1006110035         10671           25113           0.424919   \n",
       "494567  4034440033          3130            7391           0.423488   \n",
       "6647    1004990018          3935            9326           0.421939   \n",
       "23864   1013920012          1351            3231           0.418137   \n",
       "23809   1013900047          1314            3153           0.416746   \n",
       "23794   1013900014           802            1929           0.415759   \n",
       "11231   1007400011           626            1508           0.415119   \n",
       "25054   1014300002          6038           14664           0.411757   \n",
       "8047    1005690028          5910           14426           0.409677   \n",
       "8904    1005930027          8492           21007           0.404246   \n",
       "9635    1006190009         12545           31054           0.403974   \n",
       "10403   1006440055          5203           12963           0.401373   \n",
       "8200    1005740002          4945           12322           0.401315   \n",
       "5118    1004430038          1409            3534           0.398698   \n",
       "23863   1013920011           837            2100           0.398571   \n",
       "9674    1006190074         36270           91017           0.398497   \n",
       "23895   1013920111           965            2422           0.398431   \n",
       "22430   1013240028          6236           15691           0.397425   \n",
       "11232   1007400012           453            1144           0.395979   \n",
       "23793   1013900013           451            1139           0.395961   \n",
       "6474    1004900020         21757           55113           0.394771   \n",
       "6894    1005100030         23135           59294           0.390174   \n",
       "8094    1005720002          6666           17096           0.389916   \n",
       "10804   1007160001          7221           18670           0.386770   \n",
       "9684    1006200001         20702           53540           0.386664   \n",
       "664     1001337504         17677           45743           0.386442   \n",
       "25022   1014290002          6222           16216           0.383695   \n",
       "9077    1006060004         10293           26843           0.383452   \n",
       "23823   1013900146           862            2256           0.382092   \n",
       "25046   1014290127          4389           11522           0.380923   \n",
       "6606    1004960033          2401            6311           0.380447   \n",
       "9944    1006250051         13525           35638           0.379511   \n",
       "23862   1013920010           673            1782           0.377666   \n",
       "201788  3023260027          3968           10537           0.376578   \n",
       "\n",
       "       spatial_bkt                                           geometry Borough  \\\n",
       "497776     Top33_P  POLYGON ((-73.904855 40.694955, -73.905643 40....      QN   \n",
       "6570       Top33_P  POLYGON ((-73.996787 40.722551, -73.9968960000...      MN   \n",
       "9245       Top33_P  POLYGON ((-74.00173700000001 40.7343, -74.0017...      MN   \n",
       "4742       Top33_P  POLYGON ((-73.987927 40.723327, -73.9879860000...      MN   \n",
       "494570     Top33_P  POLYGON ((-73.911412 40.700081, -73.9115769999...      QN   \n",
       "8727       Top33_P  POLYGON ((-74.00183800000001 40.730752, -74.00...      MN   \n",
       "11230      Top33_P  POLYGON ((-74.003235 40.742169, -74.003399 40....      MN   \n",
       "4743       Top33_P  POLYGON ((-73.987791 40.723343, -73.987832 40....      MN   \n",
       "141408     Top33_P  POLYGON ((-74.010564 40.67891, -74.010609 40.6...      BK   \n",
       "42697      Top33_P  MULTIPOLYGON (((-73.90579200000001 40.899678, ...      BX   \n",
       "6607       Top33_P  POLYGON ((-73.997129 40.722625, -73.997214 40....      MN   \n",
       "6773       Top33_P  POLYGON ((-74.003561 40.725797, -74.003585 40....      MN   \n",
       "4919       Top33_P  POLYGON ((-73.98491 40.727755, -73.985045 40.7...      MN   \n",
       "25055      Top33_P  POLYGON ((-73.95849200000001 40.771763, -73.95...      MN   \n",
       "203066     Top33_P  POLYGON ((-73.965361 40.714042, -73.9654550000...      BK   \n",
       "9785       Top33_P  POLYGON ((-74.005618 40.735422, -74.005577 40....      MN   \n",
       "9303       Top33_P  POLYGON ((-74.002111 40.734448, -74.002133 40....      MN   \n",
       "494567     Top33_P  POLYGON ((-73.91092 40.700027, -73.91075600000...      QN   \n",
       "6647       Top33_P  POLYGON ((-73.998766 40.724653, -73.998868 40....      MN   \n",
       "23864      Top33_P  POLYGON ((-73.96336100000001 40.775534, -73.96...      MN   \n",
       "23809      Top33_P  POLYGON ((-73.963024 40.774065, -73.9632079999...      MN   \n",
       "23794      Top33_P  POLYGON ((-73.964236 40.774005, -73.964288 40....      MN   \n",
       "11231      Top33_P  POLYGON ((-74.00315500000001 40.742136, -74.00...      MN   \n",
       "25054      Top33_P  POLYGON ((-73.95854 40.771697, -73.95859 40.77...      MN   \n",
       "8047       Top33_P  POLYGON ((-73.99332200000001 40.733479, -73.99...      MN   \n",
       "8904       Top33_P  POLYGON ((-74.000077 40.733172, -74.000118 40....      MN   \n",
       "9635       Top33_P  POLYGON ((-74.006024 40.733676, -74.006024 40....      MN   \n",
       "10403      Top33_P  POLYGON ((-74.006576 40.739569, -74.006607 40....      MN   \n",
       "8200       Top33_P  POLYGON ((-73.998257 40.73484, -73.998296 40.7...      MN   \n",
       "5118       Top33_P  POLYGON ((-73.988479 40.723512, -73.988507 40....      MN   \n",
       "23863      Top33_P  POLYGON ((-73.963492 40.77559, -73.963466 40.7...      MN   \n",
       "9674       Top33_P  POLYGON ((-74.00333500000001 40.733605, -74.00...      MN   \n",
       "23895      Top33_P  POLYGON ((-73.963438 40.775567, -73.963414 40....      MN   \n",
       "22430      Top33_P  POLYGON ((-73.968335 40.755402, -73.968373 40....      MN   \n",
       "11232      Top33_P  POLYGON ((-74.00308200000001 40.742105, -74.00...      MN   \n",
       "23793      Top33_P  POLYGON ((-73.964203 40.774231, -73.964249 40....      MN   \n",
       "6474       Top33_P  POLYGON ((-74.00386 40.725394, -74.003935 40.7...      MN   \n",
       "6894       Top33_P  POLYGON ((-73.99597199999999 40.723866, -73.99...      MN   \n",
       "8094       Top33_P  POLYGON ((-73.999039 40.733622, -73.999078 40....      MN   \n",
       "10804      Top33_P  POLYGON ((-74.005898 40.74461, -74.005944 40.7...      MN   \n",
       "9684       Top33_P  POLYGON ((-74.00579500000001 40.734007, -74.00...      MN   \n",
       "664        Top33_P  POLYGON ((-74.00877199999999 40.714112, -74.00...      MN   \n",
       "25022      Top33_P  POLYGON ((-73.95910000000001 40.771124, -73.95...      MN   \n",
       "9077       Top33_P  POLYGON ((-73.99962499999999 40.734975, -73.99...      MN   \n",
       "23823      Top33_P  POLYGON ((-73.962964 40.77404, -73.963149 40.7...      MN   \n",
       "25046      Top33_P  POLYGON ((-73.95717500000001 40.770704, -73.95...      MN   \n",
       "6606       Top33_P  POLYGON ((-73.997103 40.722691, -73.997129 40....      MN   \n",
       "9944       Top33_P  POLYGON ((-74.004351 40.737626, -74.004546 40....      MN   \n",
       "23862      Top33_P  POLYGON ((-73.96354599999999 40.775613, -73.96...      MN   \n",
       "201788     Top33_P  POLYGON ((-73.95949899999999 40.718299, -73.95...      BK   \n",
       "\n",
       "        LandUse                                       Desc  \n",
       "497776        6                 Industrial & Manufacturing  \n",
       "6570          4  Mixed Residential & Commercial Buildings   \n",
       "9245         10                         Parking Facilities  \n",
       "4742          4  Mixed Residential & Commercial Buildings   \n",
       "494570        4  Mixed Residential & Commercial Buildings   \n",
       "8727          5              Commercial & Office Buildings  \n",
       "11230         2            Multi-Family Walk-Up Buildings   \n",
       "4743          4  Mixed Residential & Commercial Buildings   \n",
       "141408        4  Mixed Residential & Commercial Buildings   \n",
       "42697       NaN                                        NaN  \n",
       "6607          4  Mixed Residential & Commercial Buildings   \n",
       "6773          5              Commercial & Office Buildings  \n",
       "4919          4  Mixed Residential & Commercial Buildings   \n",
       "25055         4  Mixed Residential & Commercial Buildings   \n",
       "203066        4  Mixed Residential & Commercial Buildings   \n",
       "9785          4  Mixed Residential & Commercial Buildings   \n",
       "9303          5              Commercial & Office Buildings  \n",
       "494567        5              Commercial & Office Buildings  \n",
       "6647          2            Multi-Family Walk-Up Buildings   \n",
       "23864         1                 One &Two Family Buildings   \n",
       "23809         1                 One &Two Family Buildings   \n",
       "23794         4  Mixed Residential & Commercial Buildings   \n",
       "11231         2            Multi-Family Walk-Up Buildings   \n",
       "25054         4  Mixed Residential & Commercial Buildings   \n",
       "8047          5              Commercial & Office Buildings  \n",
       "8904          4  Mixed Residential & Commercial Buildings   \n",
       "9635          4  Mixed Residential & Commercial Buildings   \n",
       "10403         1                 One &Two Family Buildings   \n",
       "8200          4  Mixed Residential & Commercial Buildings   \n",
       "5118          4  Mixed Residential & Commercial Buildings   \n",
       "23863         1                 One &Two Family Buildings   \n",
       "9674          5              Commercial & Office Buildings  \n",
       "23895         1                 One &Two Family Buildings   \n",
       "22430         4  Mixed Residential & Commercial Buildings   \n",
       "11232         2            Multi-Family Walk-Up Buildings   \n",
       "23793         1                 One &Two Family Buildings   \n",
       "6474        NaN                                        NaN  \n",
       "6894          6                 Industrial & Manufacturing  \n",
       "8094          4  Mixed Residential & Commercial Buildings   \n",
       "10804         4  Mixed Residential & Commercial Buildings   \n",
       "9684          3            Multi-Family Elevator Buildings  \n",
       "664           4  Mixed Residential & Commercial Buildings   \n",
       "25022         4  Mixed Residential & Commercial Buildings   \n",
       "9077          5              Commercial & Office Buildings  \n",
       "23823         1                 One &Two Family Buildings   \n",
       "25046         4  Mixed Residential & Commercial Buildings   \n",
       "6606          5              Commercial & Office Buildings  \n",
       "9944          4  Mixed Residential & Commercial Buildings   \n",
       "23862         1                 One &Two Family Buildings   \n",
       "201788        4  Mixed Residential & Commercial Buildings   "
      ]
     },
     "execution_count": 36,
     "metadata": {},
     "output_type": "execute_result"
    }
   ],
   "source": [
    "dat[dat.total_demand>233].sort('total_unmet_ratio', ascending=False)[:50]"
   ]
  },
  {
   "cell_type": "code",
   "execution_count": null,
   "metadata": {
    "collapsed": false
   },
   "outputs": [],
   "source": [
    "dat.head(2)"
   ]
  },
  {
   "cell_type": "code",
   "execution_count": null,
   "metadata": {
    "collapsed": false
   },
   "outputs": [],
   "source": [
    "dat.LandUse.hist()"
   ]
  },
  {
   "cell_type": "code",
   "execution_count": null,
   "metadata": {
    "collapsed": true
   },
   "outputs": [],
   "source": [
    "dat[['Desc']].to_csv('Landuse.csv')"
   ]
  },
  {
   "cell_type": "code",
   "execution_count": null,
   "metadata": {
    "collapsed": true
   },
   "outputs": [],
   "source": []
  }
 ],
 "metadata": {
  "kernelspec": {
   "display_name": "Python 2",
   "language": "python",
   "name": "python2"
  },
  "language_info": {
   "codemirror_mode": {
    "name": "ipython",
    "version": 2
   },
   "file_extension": ".py",
   "mimetype": "text/x-python",
   "name": "python",
   "nbconvert_exporter": "python",
   "pygments_lexer": "ipython2",
   "version": "2.7.11"
  }
 },
 "nbformat": 4,
 "nbformat_minor": 0
}
